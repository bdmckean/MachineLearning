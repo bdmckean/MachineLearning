{
 "cells": [
  {
   "cell_type": "markdown",
   "metadata": {},
   "source": [
    "### \n",
    "\n",
    "\n",
    "\n",
    "From Lecture 14 ...\n",
    "\n",
    "h(x) =  1  if point is inside the triangle or on an edge  \n",
    "h(x) = -1  if point is outside the triangle\n",
    "\n",
    "\n",
    "For a finite conistent Hypothesis Class\n",
    "\n",
    "\n",
    "$$ m >=  \\frac{1}{ \\epsilon } ( ln | H | + ln ( \\frac{1}{\\delta}) ) $$\n",
    "\n",
    "We want 95 percent probablility of being correct so $$ \\delta = 0.05$$ \n",
    "\n",
    "The error allowed is 0.15.\n",
    "\n",
    "\n",
    "We need |H|\n",
    "\n",
    "There points are from 0 to 99 on the x and the y axis.  \n",
    "There are 100x100 = 10000 Points\n",
    "To pick a triangle you need thre points so there are\n",
    "10,000 x 9,999 x 9998 =  possible triangles\n",
    "ln (10,000 x 9,999 x 9998 ) = 66.2\n",
    "\n",
    "$$ m >= \\frac{1}{ 0.15 } ( 66.2 + ln ( 1/ 0.05)) = 204.1 $$\n",
    "\n",
    "So m is at least 205.\n",
    "\n",
    "\n",
    "\n"
   ]
  },
  {
   "cell_type": "code",
   "execution_count": null,
   "metadata": {
    "collapsed": true
   },
   "outputs": [],
   "source": []
  }
 ],
 "metadata": {
  "anaconda-cloud": {},
  "kernelspec": {
   "display_name": "Python [conda env:hwenv]",
   "language": "python",
   "name": "conda-env-hwenv-py"
  },
  "language_info": {
   "codemirror_mode": {
    "name": "ipython",
    "version": 3
   },
   "file_extension": ".py",
   "mimetype": "text/x-python",
   "name": "python",
   "nbconvert_exporter": "python",
   "pygments_lexer": "ipython3",
   "version": "3.6.2"
  }
 },
 "nbformat": 4,
 "nbformat_minor": 1
}
