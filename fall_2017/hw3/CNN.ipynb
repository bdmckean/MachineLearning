{
 "cells": [
  {
   "cell_type": "code",
   "execution_count": 1,
   "metadata": {
    "collapsed": false
   },
   "outputs": [
    {
     "name": "stderr",
     "output_type": "stream",
     "text": [
      "Using TensorFlow backend.\n"
     ]
    }
   ],
   "source": [
    "\n",
    "import argparse\n",
    "import pickle\n",
    "import gzip\n",
    "from collections import Counter, defaultdict\n",
    "import keras\n",
    "from keras.models import Sequential\n",
    "from keras.layers import Conv2D\n",
    "from keras.layers import Dense\n",
    "from keras.layers import MaxPool2D\n",
    "from keras.layers import Dropout\n",
    "from keras.layers import Flatten\n",
    "from keras.layers.core import Reshape\n",
    "import numpy as np\n",
    "\n",
    "from sklearn.preprocessing import LabelEncoder\n",
    "from sklearn.preprocessing import OneHotEncoder\n",
    "\n",
    "\n",
    "\n",
    "import matplotlib.pyplot as plt\n",
    "\n",
    "from collections import defaultdict\n",
    "\n",
    "%matplotlib inline\n",
    "import json\n",
    "plt.style.use('ggplot')"
   ]
  },
  {
   "cell_type": "code",
   "execution_count": 2,
   "metadata": {
    "collapsed": true
   },
   "outputs": [],
   "source": [
    "class Numbers:\n",
    "    \"\"\"\n",
    "    Class to store MNIST data\n",
    "    \"\"\"\n",
    "\n",
    "    def __init__(self, location):\n",
    "        # Load the dataset\n",
    "        with gzip.open(location, 'rb') as f:\n",
    "            train_set, valid_set, test_set = pickle.load(f)\n",
    "        self.train_x, self.train_y = train_set\n",
    "        self.test_x, self.test_y = valid_set\n"
   ]
  },
  {
   "cell_type": "code",
   "execution_count": 3,
   "metadata": {
    "collapsed": false
   },
   "outputs": [],
   "source": [
    "\n",
    "class CNN:\n",
    "    '''\n",
    "    CNN classifier\n",
    "    '''\n",
    "    def __init__(self, train_x, train_y, test_x, test_y, history, epochs = 15, batch_size=128, activation=\"relu\" ):\n",
    "        '''\n",
    "        initialize CNN classifier\n",
    "        '''\n",
    "        self.batch_size = batch_size\n",
    "        self.epochs = epochs\n",
    "\n",
    "        print (len(train_x))\n",
    "        print (len([elem for elem in train_x]))\n",
    "        # TODO: reshape train_x and test_x\n",
    "        # reshape our data from (n, length) to (n, width, height, 1) which width*height = length\n",
    "        #self.train_x = np.array(np.array([train_x[i:i + 28] for i in range(0, len(train_x), 28)]))\n",
    "        #self.train_x = np.array([[elem[i:i + 28] for i in range(0, len(elem), 28)] for elem in train_x])\n",
    "        #self.test_x = np.array([[elem[i:i + 28] for i in range(0, len(elem), 28)] for elem in test_x])\n",
    "        self.train_y = np.array(train_y)\n",
    "        self.test_y = np.array(test_y)\n",
    "        \n",
    "        # input image dimensions\n",
    "        img_x, img_y = 28, 28\n",
    "        input_shape = (img_x, img_y, 1)\n",
    "        \n",
    "        # TODO: reshape train_x and test_x\n",
    "        self.train_x = train_x.reshape(train_x.shape[0], img_x, img_y, 1)\n",
    "        self.test_x = test_x.reshape(test_x.shape[0], img_x, img_y, 1)\n",
    "        \n",
    "\n",
    "        print (self.train_x.shape, self.test_x.shape, self.train_y.shape, self.test_y.shape)\n",
    "        #print (self.train_x[0], self.test_x[0], self.train_y[0], self.test_y[0])\n",
    "\n",
    "\n",
    "        # normalize data to range [0, 1]\n",
    "        #self.train_x /= 255\n",
    "        #self.test_x /= 255\n",
    "        #print (self.train_x[0], self.test_x[0], self.train_y[0], self.test_y[0])\n",
    "\n",
    "\n",
    "        # TODO: one hot encoding for train_y and test_y\n",
    "        num_classes = len(set(train_y))\n",
    "        one_hot_train_y = [ [0 if elem != idx else 1 for idx in range(num_classes) ] for elem in train_y]\n",
    "        one_hot_test_y = [ [0 if elem != idx else 1 for idx in range(num_classes) ] for elem in test_y]\n",
    "        self.train_y = one_hot_train_y\n",
    "        self.test_y =  one_hot_test_y\n",
    "        \n",
    "    \n",
    "    \n",
    "\n",
    "\n",
    "        # TODO: build you CNN model\n",
    "        model = Sequential()\n",
    "        model.add(Conv2D(32, kernel_size=(3, 3), input_shape=(28, 28, 1), activation='relu'))\n",
    "        model.add(Conv2D(32, kernel_size=(3, 3), activation='relu'))\n",
    "        model.add(MaxPool2D(pool_size=(2, 2)))\n",
    "        model.add(Dropout(0.25))\n",
    "        model.add(Flatten())\n",
    "        model.add(Dense(128, activation='relu'))\n",
    "        model.add(Dropout(0.50))\n",
    "        model.add(Dense(10, activation='softmax'))\n",
    "        model.compile(loss=keras.losses.categorical_crossentropy,\n",
    "              optimizer=keras.optimizers.SGD(lr=0.01),\n",
    "              metrics=['accuracy'])\n",
    "\n",
    "        self.model = model\n",
    "        \n",
    "        \n",
    "\n",
    "        \n",
    "    def train(self):\n",
    "        '''\n",
    "        train CNN classifier with training data\n",
    "        :param x: training data input\n",
    "        :param y: training label input\n",
    "        :return:\n",
    "        '''\n",
    "        # TODO: fit in training data\n",
    "        self.model.fit(self.train_x, self.train_y,\n",
    "          batch_size=self.batch_size,\n",
    "          epochs=self.epochs,\n",
    "          verbose=1,\n",
    "          validation_data=(self.test_x, self.test_y),\n",
    "          callbacks=[history])\n",
    "\n",
    "    def evaluate(self):\n",
    "        '''\n",
    "        test CNN classifier and get accuracy\n",
    "        :return: accuracy\n",
    "        '''\n",
    "        acc = self.model.evaluate(self.test_x, self.test_y)\n",
    "        return acc\n"
   ]
  },
  {
   "cell_type": "code",
   "execution_count": 4,
   "metadata": {
    "collapsed": true
   },
   "outputs": [],
   "source": [
    "class AccuracyHistory(keras.callbacks.Callback):\n",
    "    def on_train_begin(self, logs={}):\n",
    "        self.acc = []\n",
    "\n",
    "    def on_epoch_end(self, batch, logs={}):\n",
    "        self.acc.append(logs.get('acc'))"
   ]
  },
  {
   "cell_type": "code",
   "execution_count": 5,
   "metadata": {
    "collapsed": false,
    "scrolled": false
   },
   "outputs": [
    {
     "name": "stdout",
     "output_type": "stream",
     "text": [
      "(50000, 784) (10000, 784) (50000,) (10000,)\n",
      "50000\n",
      "50000\n",
      "(50000, 28, 28, 1) (10000, 28, 28, 1) (50000,) (10000,)\n",
      "Train on 50000 samples, validate on 10000 samples\n",
      "Epoch 1/15\n",
      "50000/50000 [==============================] - 212s - loss: 0.7079 - acc: 0.7744 - val_loss: 0.2248 - val_acc: 0.9342\n",
      "Epoch 2/15\n",
      "50000/50000 [==============================] - 222s - loss: 0.3281 - acc: 0.8990 - val_loss: 0.1555 - val_acc: 0.9565\n",
      "Epoch 3/15\n",
      "50000/50000 [==============================] - 220s - loss: 0.2517 - acc: 0.9243 - val_loss: 0.1233 - val_acc: 0.9660\n",
      "Epoch 4/15\n",
      "50000/50000 [==============================] - 219s - loss: 0.2100 - acc: 0.9367 - val_loss: 0.1051 - val_acc: 0.9686\n",
      "Epoch 5/15\n",
      "50000/50000 [==============================] - 221s - loss: 0.1769 - acc: 0.9471 - val_loss: 0.0876 - val_acc: 0.9764\n",
      "Epoch 6/15\n",
      "50000/50000 [==============================] - 226s - loss: 0.1587 - acc: 0.9523 - val_loss: 0.0793 - val_acc: 0.9774\n",
      "Epoch 7/15\n",
      "50000/50000 [==============================] - 195s - loss: 0.1409 - acc: 0.9569 - val_loss: 0.0726 - val_acc: 0.9791\n",
      "Epoch 8/15\n",
      "50000/50000 [==============================] - 180s - loss: 0.1298 - acc: 0.9601 - val_loss: 0.0738 - val_acc: 0.9788\n",
      "Epoch 9/15\n",
      "50000/50000 [==============================] - 179s - loss: 0.1196 - acc: 0.9629 - val_loss: 0.0655 - val_acc: 0.9813\n",
      "Epoch 10/15\n",
      "50000/50000 [==============================] - 178s - loss: 0.1129 - acc: 0.9655 - val_loss: 0.0622 - val_acc: 0.9817\n",
      "Epoch 11/15\n",
      "50000/50000 [==============================] - 179s - loss: 0.1045 - acc: 0.9683 - val_loss: 0.0599 - val_acc: 0.9825\n",
      "Epoch 12/15\n",
      "50000/50000 [==============================] - 182s - loss: 0.1005 - acc: 0.9684 - val_loss: 0.0609 - val_acc: 0.9816\n",
      "Epoch 13/15\n",
      "50000/50000 [==============================] - 181s - loss: 0.0939 - acc: 0.9715 - val_loss: 0.0530 - val_acc: 0.9846\n",
      "Epoch 14/15\n",
      "50000/50000 [==============================] - 179s - loss: 0.0901 - acc: 0.9724 - val_loss: 0.0552 - val_acc: 0.9844\n",
      "Epoch 15/15\n",
      "50000/50000 [==============================] - 180s - loss: 0.0846 - acc: 0.9737 - val_loss: 0.0522 - val_acc: 0.9838\n",
      "10000/10000 [==============================] - 10s    \n",
      "[0.052168306536658202, 0.98380000000000001]\n"
     ]
    }
   ],
   "source": [
    "#parser = argparse.ArgumentParser(description='CNN classifier options')\n",
    "#parser.add_argument('--limit', type=int, default=-1,help='Restrict training to this many examples')\n",
    "#args = parser.parse_args()\n",
    "\n",
    "data = Numbers(\"../data/mnist.pkl.gz\")\n",
    "\n",
    "print ( data.train_x.shape, data.test_x.shape, data.train_y.shape, data.test_y.shape )\n",
    "\n",
    "\n",
    "limit = 50000\n",
    "\n",
    "\n",
    "history = AccuracyHistory()\n",
    "epochs = 15\n",
    "cnn = CNN(data.train_x[:limit], data.train_y[:limit], data.test_x, data.test_y, history, epochs = epochs, batch_size=32)\n",
    "cnn.train()\n",
    "acc = cnn.evaluate()\n",
    "print(acc)"
   ]
  },
  {
   "cell_type": "code",
   "execution_count": 6,
   "metadata": {
    "collapsed": false
   },
   "outputs": [
    {
     "data": {
      "image/png": "[encoded data removed]",
      "text/plain": [
       "<matplotlib.figure.Figure at 0x10a0aec18>"
      ]
     },
     "metadata": {},
     "output_type": "display_data"
    }
   ],
   "source": [
    "plt.plot(range(1,epochs+1), history.acc)\n",
    "plt.xlabel('Epochs')\n",
    "plt.ylabel('Accuracy')\n",
    "plt.title('CNN with two convolutional layers of 32 nodes each ')\n",
    "plt.show()"
   ]
  },
  {
   "cell_type": "code",
   "execution_count": null,
   "metadata": {
    "collapsed": false
   },
   "outputs": [
    {
     "name": "stdout",
     "output_type": "stream",
     "text": [
      "_________________________________________________________________\n",
      "Layer (type)                 Output Shape              Param #   \n",
      "=================================================================\n",
      "conv2d_1 (Conv2D)            (None, 26, 26, 32)        320       \n",
      "_________________________________________________________________\n",
      "conv2d_2 (Conv2D)            (None, 24, 24, 32)        9248      \n",
      "_________________________________________________________________\n",
      "max_pooling2d_1 (MaxPooling2 (None, 12, 12, 32)        0         \n",
      "_________________________________________________________________\n",
      "dropout_1 (Dropout)          (None, 12, 12, 32)        0         \n",
      "_________________________________________________________________\n",
      "flatten_1 (Flatten)          (None, 4608)              0         \n",
      "_________________________________________________________________\n",
      "dense_1 (Dense)              (None, 128)               589952    \n",
      "_________________________________________________________________\n",
      "dropout_2 (Dropout)          (None, 128)               0         \n",
      "_________________________________________________________________\n",
      "dense_2 (Dense)              (None, 10)                1290      \n",
      "=================================================================\n",
      "Total params: 600,810\n",
      "Trainable params: 600,810\n",
      "Non-trainable params: 0\n",
      "_________________________________________________________________\n",
      "None\n"
     ]
    }
   ],
   "source": [
    "print(cnn.model.summary())"
   ]
  },
  {
   "cell_type": "code",
   "execution_count": null,
   "metadata": {
    "collapsed": false,
    "scrolled": false
   },
   "outputs": [
    {
     "name": "stdout",
     "output_type": "stream",
     "text": [
      "50000\n",
      "50000\n",
      "(50000, 28, 28, 1) (10000, 28, 28, 1) (50000,) (10000,)\n",
      "Train on 50000 samples, validate on 10000 samples\n",
      "Epoch 1/50\n",
      "33472/50000 [===================>..........] - ETA: 56s - loss: 0.7912 - acc: 0.7487"
     ]
    }
   ],
   "source": [
    "activation_results = []\n",
    "for act_fcn in [ 'tanh', 'sigmoid', 'softmax', 'linear', 'relu' ]:\n",
    "    history = AccuracyHistory()\n",
    "    epochs = 50\n",
    "    history = AccuracyHistory()\n",
    "    cnn = CNN(data.train_x[:limit], data.train_y[:limit],\\\n",
    "              data.test_x, data.test_y, history, epochs = epochs, batch_size=32, activation=act_fcn)\n",
    "    cnn.train()\n",
    "    acc = cnn.evaluate()\n",
    "    print(acc)\n",
    "    activation_results.append( (act_fcn, acc, history))"
   ]
  },
  {
   "cell_type": "code",
   "execution_count": null,
   "metadata": {
    "collapsed": true
   },
   "outputs": [],
   "source": [
    "ar_save = activation_results\n",
    "activation_results = [xx for xx in activation_results if xx[0]!='linear']"
   ]
  },
  {
   "cell_type": "code",
   "execution_count": null,
   "metadata": {
    "collapsed": false
   },
   "outputs": [],
   "source": [
    "print (activation_results)"
   ]
  },
  {
   "cell_type": "code",
   "execution_count": null,
   "metadata": {
    "collapsed": false
   },
   "outputs": [],
   "source": [
    "activation_results = [xx for xx in activation_results if xx[0]!='linear']\n",
    "labels = [ 'tanh', 'sigmoid', 'softmax', 'linear', 'relu' ]\n",
    "for idx, label in enumerate(labels):\n",
    "    activation_results[idx] = list( activation_results[idx])\n",
    "    activation_results[idx][0] = label"
   ]
  },
  {
   "cell_type": "code",
   "execution_count": null,
   "metadata": {
    "collapsed": true
   },
   "outputs": [],
   "source": [
    "activation_results = [xx for xx in activation_results if xx[0]!='linear']\n",
    "activation_results = [xx for xx in activation_results if xx[0]!='softmax']"
   ]
  },
  {
   "cell_type": "code",
   "execution_count": null,
   "metadata": {
    "collapsed": false
   },
   "outputs": [],
   "source": [
    "activation_results[0][2].acc"
   ]
  },
  {
   "cell_type": "code",
   "execution_count": null,
   "metadata": {
    "collapsed": false
   },
   "outputs": [],
   "source": [
    "import seaborn as sns\n",
    "\n",
    "plt.clf()\n",
    "fig = plt.figure()\n",
    "ax = fig.add_subplot(1,1,1)\n",
    "sns.set_style(\"whitegrid\")\n",
    "\n",
    "x_vals = [xx[0] for xx in activation_results]\n",
    "x = range(len(x_vals))\n",
    "y_test_acc = [xx[1][1] for xx in activation_results]\n",
    "\n",
    "\n",
    "#ax.bar(x, y_train_acc)\n",
    "ax.bar(x, y_test_acc)\n",
    "\n",
    "ax.set_xticks(x)\n",
    "ax.set_xticklabels(x_vals)\n",
    "\n",
    "ax.set_xlabel('Activation Fucntion')\n",
    "ax.set_ylabel('Test Accuracy after 50 epochs')\n",
    "\n",
    "\n",
    "      \n",
    "ax.set_ylim(0.50,1.00)\n",
    "\n",
    "\n",
    "\n",
    "plt.title('HW3 1.2 Accuracy versus activation function')\n",
    "plt.legend(bbox_to_anchor=(1.05, 1), loc=2)\n",
    "plt.show()\n",
    "plt.clf()\n",
    "plt.close(fig)"
   ]
  },
  {
   "cell_type": "code",
   "execution_count": null,
   "metadata": {
    "collapsed": false
   },
   "outputs": [],
   "source": [
    "### Plot accuacy versus epoch for activation functions\n",
    "plt.clf()\n",
    "fig = plt.figure()\n",
    "ax = fig.add_subplot(1,1,1)\n",
    "sns.set_style(\"whitegrid\")\n",
    "\n",
    "x = range(len(activation_results[0][2].acc))\n",
    "y_vals = [xx[2].acc for xx in activation_results]\n",
    "y_labels =  [xx[0] for xx in activation_results]\n",
    "\n",
    "\n",
    "line1, = ax.plot(x, y_vals[0] , lw=2, label=y_labels[0])\n",
    "line2, = ax.plot(x, y_vals[1] , lw=2, label=y_labels[1])\n",
    "line3, = ax.plot(x, y_vals[2] , lw=2, label=y_labels[2])\n",
    "\n",
    "\n",
    "\n",
    "ax.set_xlabel('Epochs')\n",
    "ax.set_ylabel('Test Accuracy')\n",
    "\n",
    "      \n",
    "ax.set_ylim(0.0,1.00)\n",
    "\n",
    "\n",
    "plt.title('HW3 1.2 Accuracy Versus Epochs for three activation functions')\n",
    "plt.legend(bbox_to_anchor=(1.05, 1), loc=2)\n",
    "plt.show()\n",
    "plt.clf()\n",
    "plt.close(fig)"
   ]
  },
  {
   "cell_type": "code",
   "execution_count": null,
   "metadata": {
    "collapsed": false,
    "scrolled": false
   },
   "outputs": [],
   "source": [
    "activation_results = []\n",
    "act_fcn = 'relu'\n",
    "for batch_size in [ 32, 64, 128, 256, 512 ]:\n",
    "    Print (\"Batch size\", batch_size)\n",
    "    history = AccuracyHistory()\n",
    "    epochs = 20\n",
    "    history = AccuracyHistory()\n",
    "    cnn = CNN(data.train_x[:limit], data.train_y[:limit],\\\n",
    "              data.test_x, data.test_y, history, epochs = epochs, batch_size=batch_size, activation=act_fcn)\n",
    "    cnn.train()\n",
    "    acc = cnn.evaluate()\n",
    "    print(acc)\n",
    "    activation_results.append( (act_fcn, acc, history))"
   ]
  },
  {
   "cell_type": "code",
   "execution_count": null,
   "metadata": {
    "collapsed": false
   },
   "outputs": [],
   "source": [
    "for idx, label in enumerate([ 32, 64, 128, 256, 512 ]):\n",
    "    activation_results[idx] = list( activation_results[idx])\n",
    "    activation_results[idx][0] = label"
   ]
  },
  {
   "cell_type": "code",
   "execution_count": null,
   "metadata": {
    "collapsed": false
   },
   "outputs": [],
   "source": [
    "\n",
    "plt.clf()\n",
    "fig = plt.figure()\n",
    "ax = fig.add_subplot(1,1,1)\n",
    "sns.set_style(\"whitegrid\")\n",
    "\n",
    "x_vals = [xx[0] for xx in activation_results]\n",
    "x = range(len(x_vals))\n",
    "y_test_acc = [xx[1][1] for xx in activation_results]\n",
    "y_labels =  [xx[0] for xx in activation_results]\n",
    "\n",
    "\n",
    "\n",
    "#ax.bar(x, y_train_acc)\n",
    "ax.bar(x, y_test_acc)\n",
    "\n",
    "ax.set_xticks(x)\n",
    "ax.set_xticklabels(x_vals)\n",
    "\n",
    "ax.set_xlabel('Batch Size')\n",
    "ax.set_ylabel('Test Accuracy after 20 epochs')\n",
    "\n",
    "\n",
    "      \n",
    "ax.set_ylim(0.50,1.00)\n",
    "\n",
    "\n",
    "\n",
    "plt.title('HW3 1.2 Accuracy versus batch size')\n",
    "plt.legend(bbox_to_anchor=(1.05, 1), loc=2)\n",
    "plt.show()\n",
    "plt.clf()\n",
    "plt.close(fig)"
   ]
  },
  {
   "cell_type": "code",
   "execution_count": null,
   "metadata": {
    "collapsed": false
   },
   "outputs": [],
   "source": [
    "### Plot accuacy versus epoch for batch sizes\n",
    "plt.clf()\n",
    "fig = plt.figure()\n",
    "ax = fig.add_subplot(1,1,1)\n",
    "sns.set_style(\"whitegrid\")\n",
    "\n",
    "x = range(len(activation_results[0][2].acc))\n",
    "y_vals = [xx[2].acc for xx in activation_results]\n",
    "y_labels =  [xx[0] for xx in activation_results]\n",
    "\n",
    "\n",
    "line1, = ax.plot(x, y_vals[0] , lw=2, label=y_labels[0])\n",
    "line2, = ax.plot(x, y_vals[1] , lw=2, label=y_labels[1])\n",
    "line3, = ax.plot(x, y_vals[2] , lw=2, label=y_labels[2])\n",
    "line4, = ax.plot(x, y_vals[3] , lw=2, label=y_labels[3])\n",
    "line5, = ax.plot(x, y_vals[4] , lw=2, label=y_labels[4])\n",
    "\n",
    "\n",
    "\n",
    "ax.set_xlabel('Epochs')\n",
    "ax.set_ylabel('Test Accuracy')\n",
    "\n",
    "      \n",
    "ax.set_ylim(0.0,1.00)\n",
    "\n",
    "\n",
    "plt.title('HW3 1.2 Accuracy Versus Epochs for different batch sizes')\n",
    "plt.legend(bbox_to_anchor=(1.05, 1), loc=2)\n",
    "plt.show()\n",
    "plt.clf()\n",
    "plt.close(fig)"
   ]
  },
  {
   "cell_type": "code",
   "execution_count": null,
   "metadata": {
    "collapsed": true
   },
   "outputs": [],
   "source": []
  },
  {
   "cell_type": "code",
   "execution_count": null,
   "metadata": {
    "collapsed": true
   },
   "outputs": [],
   "source": []
  },
  {
   "cell_type": "code",
   "execution_count": null,
   "metadata": {
    "collapsed": true
   },
   "outputs": [],
   "source": []
  },
  {
   "cell_type": "code",
   "execution_count": null,
   "metadata": {
    "collapsed": true
   },
   "outputs": [],
   "source": []
  }
 ],
 "metadata": {
  "anaconda-cloud": {},
  "kernelspec": {
   "display_name": "Python [conda env:hwenv]",
   "language": "python",
   "name": "conda-env-hwenv-py"
  },
  "language_info": {
   "codemirror_mode": {
    "name": "ipython",
    "version": 3
   },
   "file_extension": ".py",
   "mimetype": "text/x-python",
   "name": "python",
   "nbconvert_exporter": "python",
   "pygments_lexer": "ipython3",
   "version": "3.6.2"
  }
 },
 "nbformat": 4,
 "nbformat_minor": 1
}
