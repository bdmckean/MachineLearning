{
 "cells": [
  {
   "cell_type": "markdown",
   "metadata": {},
   "source": [
    "# CSCI 5622 Fall 2017 HW#3\n",
    "## Brian McKean\n",
    "### Code"
   ]
  },
  {
   "cell_type": "code",
   "execution_count": 1,
   "metadata": {
    "collapsed": true
   },
   "outputs": [],
   "source": [
    "import matplotlib.pyplot as plt\n",
    "import json\n",
    "import numpy as np\n",
    "plt.style.use('ggplot')\n",
    "%matplotlib inline\n",
    "from collections import defaultdict\n",
    "import seaborn as sns\n",
    "import pandas as pd"
   ]
  },
  {
   "cell_type": "code",
   "execution_count": 2,
   "metadata": {
    "collapsed": false
   },
   "outputs": [],
   "source": [
    "import seaborn as sns\n",
    "from pydataset import data"
   ]
  },
  {
   "cell_type": "code",
   "execution_count": 3,
   "metadata": {
    "collapsed": true
   },
   "outputs": [],
   "source": [
    "import numpy as np\n",
    "import pickle, gzip\n",
    "import matplotlib.pyplot as plt"
   ]
  },
  {
   "cell_type": "code",
   "execution_count": 4,
   "metadata": {
    "collapsed": true
   },
   "outputs": [],
   "source": [
    "class Network:\n",
    "    def __init__(self, sizes):\n",
    "        self.L = len(sizes)\n",
    "        self.sizes = sizes\n",
    "        self.biases = [np.random.randn(n, 1) for n in self.sizes[1:]]\n",
    "        self.weights = [np.random.randn(n, m) for (m,n) in zip(self.sizes[:-1], self.sizes[1:])]\n",
    "        self.epoch_results = []\n",
    "\n",
    "    def g(self, z):\n",
    "        \"\"\"\n",
    "        activation function\n",
    "        \"\"\"\n",
    "        return sigmoid(z)\n",
    "\n",
    "    def g_prime(self, z):\n",
    "        \"\"\"\n",
    "        derivative of activation function\n",
    "        \"\"\"\n",
    "        return sigmoid_prime(z)\n",
    "\n",
    "    def forward_prop(self, a):\n",
    "        \"\"\"\n",
    "        memory aware forward propagation for testing\n",
    "        only.  back_prop implements it's own forward_prop\n",
    "        \"\"\"\n",
    "        for (W,b) in zip(self.weights, self.biases):\n",
    "            a = self.g(np.dot(W, a) + b)\n",
    "        return a\n",
    "\n",
    "    def gradC(self, a, y):\n",
    "        \"\"\"\n",
    "        gradient of cost function\n",
    "        Assumes C(a,y) = (a-y)^2/2\n",
    "        \"\"\"\n",
    "        return (a - y)\n",
    "    \n",
    "    def SGD_train(self, train, epochs, eta, lam=0.0, verbose=True, test=None):\n",
    "        \"\"\"\n",
    "        SGD for training parameters\n",
    "        epochs is the number of epocs to run\n",
    "        eta is the learning rate\n",
    "        lam is the regularization parameter\n",
    "        If verbose is set will print progressive accuracy updates\n",
    "        If test set is provided, routine will print accuracy on test set as learning evolves\n",
    "        \"\"\"\n",
    "        n_train = len(train)\n",
    "        #print (\"train shape\", np.array(train).shape)\n",
    "        for epoch in range(epochs):\n",
    "            perm = np.random.permutation(n_train)\n",
    "            for kk in range(n_train):\n",
    "                xk = train[perm[kk]][0]\n",
    "                yk = train[perm[kk]][1]\n",
    "                #print (\"xk, yK\", np.array(xk.shape), np.array(yk).shape)\n",
    "                dWs, dbs = self.back_prop(xk, yk)\n",
    "                # TODO: Add L2-regularization\n",
    "                #self.weights = [W - eta*dW - lam*W  for (W, dW) in zip(self.weights, dWs)]\n",
    "                self.weights = [W - eta*(dW  + lam*W) for (W, dW) in zip(self.weights, dWs)]\n",
    "                self.biases = [b - eta*db  for (b, db) in zip(self.biases, dbs)]\n",
    "            if verbose:\n",
    "                if epoch==0 or (epoch + 1) % 15 == 0:\n",
    "                    acc_train = self.evaluate(train)\n",
    "                    if test is not None:\n",
    "                        acc_test = self.evaluate(test)\n",
    "                        print(\"Epoch {:4d}: Train {:10.5f}, Test {:10.5f}\".format(epoch+1, acc_train, acc_test))\n",
    "                        self.epoch_results.append((epoch+1, acc_train, acc_test))\n",
    "                    else:\n",
    "                        print(\"Epoch {:4d}: Train {:10.5f}\".format(epoch+1, acc_train))\n",
    "                        elf.epoch_results.append((epoch+1, acc_train))\n",
    "        return acc_train\n",
    "\n",
    "    def back_prop(self, x, y):\n",
    "        \"\"\"\n",
    "        Back propagation for derivatives of C wrt parameters\n",
    "        \"\"\"\n",
    "        db_list = [np.zeros(b.shape) for b in self.biases]\n",
    "        dW_list = [np.zeros(W.shape) for W in self.weights]\n",
    "\n",
    "\n",
    "        a = x\n",
    "        a_list = [a]\n",
    "        z_list = [np.zeros(a.shape)] # Pad with throwaway so indices match\n",
    "        for W, b in zip(self.weights, self.biases):\n",
    "            #print (\"here\", np.array(W).shape, np.array( a).shape, np.array(b).shape, \"done\")\n",
    "            z = np.dot(W, a) + b\n",
    "            z_list.append(z)\n",
    "            a = self.g(z)\n",
    "            a_list.append(a)\n",
    "\n",
    "        # Back propagate deltas to compute derivatives\n",
    "        # TODO delta  =\n",
    "        # Last layer\n",
    "        delta  =  self.g_prime(z) * self.gradC(a, y)\n",
    "        #print (a, delta, np.ones((len(a),1)), np.ones(len(a)) - a , a-y)\n",
    "        #print (a.shape, delta.shape, np.ones((len(a),1)).shape, (np.ones(len(a)) - a).shape , (a-y).shape )\n",
    "        for ell in range(self.L-2,-1,-1):\n",
    "            #print (\"Ell\", ell)\n",
    "            # TODO db_list[ell] =\n",
    "            #print (db_list[ell].shape, db_list[ell])\n",
    "            db_list[ell] = delta\n",
    "            #print (db_list[ell].shape, db_list[ell])\n",
    "            # TODO dW_list[ell] =\n",
    "            #print (dW_list[ell].shape, dW_list[ell])\n",
    "            #dW_list[ell] = delta *  a_list[ell].T\n",
    "            dW_list[ell] = delta.dot( a_list[ell].T )\n",
    "            #print (\"dW shape\", dW_list[ell].shape, \"dW\", dW_list[ell], \"W\", self.weights)\n",
    "            # TODO delta = self.weights[ell].T*delta * h\n",
    "            #delta = self.weights[ell].T*delta* (a_list[ell] - y)\n",
    "            delta = np.dot(self.weights[ell].T, delta )*( self.g_prime(z_list[ell]))\n",
    "\n",
    "            #print (delta.shape, delta)\n",
    "        #exit(0)\n",
    "        return (dW_list, db_list)\n",
    "\n",
    "    def evaluate(self, test):\n",
    "        \"\"\"\n",
    "        Evaluate current model on labeled test data\n",
    "        \"\"\"\n",
    "        ctr = 0\n",
    "        for x, y in test:\n",
    "            yhat = self.forward_prop(x)\n",
    "            ctr += np.argmax(yhat) == np.argmax(y)\n",
    "        return float(ctr) / float(len(test))\n",
    "\n",
    "    def compute_cost(self, x, y):\n",
    "        \"\"\"\n",
    "        Evaluate the cost function for a specified\n",
    "        training example.\n",
    "        \"\"\"\n",
    "        a = self.forward_prop(x)\n",
    "        return 0.5*np.linalg.norm(a-y)**2\n",
    "    \n",
    "    def get_epoch_results(self):\n",
    "        return self.epoch_results\n"
   ]
  },
  {
   "cell_type": "code",
   "execution_count": 5,
   "metadata": {
    "collapsed": true
   },
   "outputs": [],
   "source": [
    "\n",
    "def sigmoid(z, threshold=20):\n",
    "    z = np.clip(z, -threshold, threshold)\n",
    "    return 1.0/(1.0+np.exp(-z))\n",
    "\n",
    "def sigmoid_prime(z):\n",
    "    return sigmoid(z) * (1.0 - sigmoid(z))\n",
    "\n",
    "def mnist_digit_show(flatimage, outname=None):\n",
    "\n",
    "    import matplotlib.pyplot as plt\n",
    "\n",
    "    image = np.reshape(flatimage, (-1,14))\n",
    "\n",
    "    plt.matshow(image, cmap=plt.cm.binary)\n",
    "    plt.xticks([])\n",
    "    plt.yticks([])\n",
    "    if outname:\n",
    "        plt.savefig(outname)\n",
    "    else:\n",
    "        plt.show()\n"
   ]
  },
  {
   "cell_type": "code",
   "execution_count": 6,
   "metadata": {
    "collapsed": false
   },
   "outputs": [
    {
     "name": "stdout",
     "output_type": "stream",
     "text": [
      "Epoch    1: Train    0.09444, Test    0.07843\n",
      "Epoch   15: Train    0.60064, Test    0.52381\n",
      "Epoch   30: Train    0.80072, Test    0.69348\n",
      "Epoch   45: Train    0.84354, Test    0.77351\n",
      "Epoch   60: Train    0.86635, Test    0.80152\n",
      "Epoch   75: Train    0.86955, Test    0.80752\n",
      "Epoch   90: Train    0.87955, Test    0.80912\n"
     ]
    },
    {
     "data": {
      "text/plain": [
       "0.8795518207282913"
      ]
     },
     "execution_count": 6,
     "metadata": {},
     "output_type": "execute_result"
    }
   ],
   "source": [
    "#f = gzip.open('../data/tinyTOY.pkl.gz', 'rb') # change path to ../data/tinyMNIST.pkl.gz after debugging\n",
    "f = gzip.open('../data/tinyMNIST.pkl.gz', 'rb')\n",
    "u = pickle._Unpickler(f)\n",
    "u.encoding = 'latin1'\n",
    "train, test = u.load()\n",
    "\n",
    "#nn = Network([2,30,2])\n",
    "nn = Network([196,30,10])\n",
    "nn.SGD_train(train, epochs=100, eta=0.01, lam=0.001, verbose=True, test=test)"
   ]
  },
  {
   "cell_type": "code",
   "execution_count": 7,
   "metadata": {
    "collapsed": true
   },
   "outputs": [],
   "source": [
    "### Plot accuracy versus hidden layer"
   ]
  },
  {
   "cell_type": "code",
   "execution_count": 8,
   "metadata": {
    "collapsed": true
   },
   "outputs": [],
   "source": [
    "acc_results_nodes = []\n",
    "acc_results_acc_test = []\n",
    "acc_results_acc_train = []"
   ]
  },
  {
   "cell_type": "code",
   "execution_count": 9,
   "metadata": {
    "collapsed": false
   },
   "outputs": [
    {
     "name": "stdout",
     "output_type": "stream",
     "text": [
      "Num nodes 10\n",
      "Epoch    1: Train    0.12925, Test    0.11685\n",
      "Epoch   15: Train    0.34814, Test    0.33573\n",
      "Epoch   30: Train    0.53341, Test    0.51461\n",
      "Epoch   45: Train    0.61985, Test    0.58703\n",
      "Epoch   60: Train    0.76991, Test    0.70468\n",
      "Epoch   75: Train    0.82833, Test    0.75350\n",
      "Epoch   90: Train    0.85914, Test    0.77911\n",
      "Num nodes 15\n",
      "Epoch    1: Train    0.12725, Test    0.08283\n",
      "Epoch   15: Train    0.50300, Test    0.46899\n",
      "Epoch   30: Train    0.65746, Test    0.60864\n",
      "Epoch   45: Train    0.80912, Test    0.71989\n",
      "Epoch   60: Train    0.85034, Test    0.76911\n",
      "Epoch   75: Train    0.86595, Test    0.79672\n",
      "Epoch   90: Train    0.87155, Test    0.80712\n",
      "Num nodes 20\n",
      "Epoch    1: Train    0.17047, Test    0.19328\n",
      "Epoch   15: Train    0.62265, Test    0.56663\n",
      "Epoch   30: Train    0.79192, Test    0.72709\n",
      "Epoch   45: Train    0.84714, Test    0.78752\n",
      "Epoch   60: Train    0.86234, Test    0.80232\n",
      "Epoch   75: Train    0.87075, Test    0.80912\n",
      "Epoch   90: Train    0.87675, Test    0.81232\n",
      "Num nodes 25\n",
      "Epoch    1: Train    0.15086, Test    0.13325\n",
      "Epoch   15: Train    0.64746, Test    0.56823\n",
      "Epoch   30: Train    0.79512, Test    0.72629\n",
      "Epoch   45: Train    0.84234, Test    0.77431\n",
      "Epoch   60: Train    0.86515, Test    0.79112\n",
      "Epoch   75: Train    0.87435, Test    0.80512\n",
      "Epoch   90: Train    0.87955, Test    0.80912\n",
      "Num nodes 30\n",
      "Epoch    1: Train    0.15526, Test    0.13165\n",
      "Epoch   15: Train    0.57183, Test    0.49940\n",
      "Epoch   30: Train    0.71949, Test    0.62945\n",
      "Epoch   45: Train    0.84954, Test    0.77631\n",
      "Epoch   60: Train    0.86795, Test    0.79552\n",
      "Epoch   75: Train    0.87635, Test    0.80672\n",
      "Epoch   90: Train    0.88155, Test    0.80992\n",
      "Num nodes 35\n",
      "Epoch    1: Train    0.16006, Test    0.11685\n",
      "Epoch   15: Train    0.58183, Test    0.52141\n",
      "Epoch   30: Train    0.80592, Test    0.73830\n",
      "Epoch   45: Train    0.84994, Test    0.78752\n",
      "Epoch   60: Train    0.86795, Test    0.80352\n",
      "Epoch   75: Train    0.87475, Test    0.80472\n",
      "Epoch   90: Train    0.88035, Test    0.81192\n",
      "Num nodes 40\n",
      "Epoch    1: Train    0.19568, Test    0.12965\n",
      "Epoch   15: Train    0.66707, Test    0.56863\n",
      "Epoch   30: Train    0.80912, Test    0.73149\n",
      "Epoch   45: Train    0.84554, Test    0.78031\n",
      "Epoch   60: Train    0.86515, Test    0.79552\n",
      "Epoch   75: Train    0.87715, Test    0.80792\n",
      "Epoch   90: Train    0.87835, Test    0.81112\n"
     ]
    }
   ],
   "source": [
    "for num_nodes in range (10, 41, 5):\n",
    "    print (\"Num nodes\", num_nodes)\n",
    "    nn = Network([196,num_nodes,10])\n",
    "    acc_results_acc_train.append(nn.SGD_train(train, epochs=100, eta=0.01, lam=0.001, verbose=True, test=test))\n",
    "    acc_results_nodes.append(num_nodes)\n",
    "    acc_results_acc_test.append(nn.evaluate(test))\n",
    "    "
   ]
  },
  {
   "cell_type": "code",
   "execution_count": 10,
   "metadata": {
    "collapsed": false
   },
   "outputs": [
    {
     "name": "stdout",
     "output_type": "stream",
     "text": [
      "[10, 15, 20, 25, 30, 35, 40] [0.8591436574629852, 0.8715486194477791, 0.876750700280112, 0.8795518207282913, 0.8815526210484194, 0.8803521408563425, 0.8783513405362144] [0.7943177270908364, 0.8119247699079631, 0.8159263705482193, 0.8107242897158864, 0.8115246098439376, 0.8135254101640657, 0.8103241296518607]\n"
     ]
    }
   ],
   "source": [
    "print (acc_results_nodes, acc_results_acc_train, acc_results_acc_test)"
   ]
  },
  {
   "cell_type": "code",
   "execution_count": 11,
   "metadata": {
    "collapsed": false
   },
   "outputs": [],
   "source": [
    "acc_results_nodes = np.array(acc_results_nodes)\n",
    "acc_results_acc_train = np.array(acc_results_acc_train)\n",
    "acc_results_acc_test = np.array(acc_results_acc_test)"
   ]
  },
  {
   "cell_type": "code",
   "execution_count": 12,
   "metadata": {
    "collapsed": false
   },
   "outputs": [
    {
     "data": {
      "text/plain": [
       "<matplotlib.figure.Figure at 0x1152ee630>"
      ]
     },
     "metadata": {},
     "output_type": "display_data"
    },
    {
     "data": {
      "image/png": "[encoded data removed]",
      "text/plain": [
       "<matplotlib.figure.Figure at 0x1152ee780>"
      ]
     },
     "metadata": {},
     "output_type": "display_data"
    },
    {
     "data": {
      "text/plain": [
       "<matplotlib.figure.Figure at 0x115898748>"
      ]
     },
     "metadata": {},
     "output_type": "display_data"
    }
   ],
   "source": [
    "\n",
    "plt.clf()\n",
    "fig = plt.figure()\n",
    "ax = fig.add_subplot(1,1,1)\n",
    "sns.set_style(\"whitegrid\")\n",
    "\n",
    "x = acc_results_nodes\n",
    "y2 = acc_results_acc_test\n",
    "y1 = acc_results_acc_train\n",
    "\n",
    "\n",
    "line, = ax.plot(x, y1 , lw=2, label=['Train Accuracy'])\n",
    "line, = ax.plot(x, y2 , lw=2, label=['Test Accuracy'])\n",
    "\n",
    "\n",
    "\n",
    "\n",
    "\n",
    "ax.set_xlabel('Number of Nodes in Hidden layer')\n",
    "ax.set_ylabel('Accuracy')\n",
    "\n",
    "      \n",
    "ax.set_ylim(0,1.00)\n",
    "\n",
    "\n",
    "\n",
    "plt.title('HW3 1.2 Accuracy versus number of hidden nodes (with 100 epochs)')\n",
    "plt.legend(bbox_to_anchor=(1.05, 1), loc=2)\n",
    "plt.show()\n",
    "plt.clf()\n",
    "plt.close(fig)"
   ]
  },
  {
   "cell_type": "code",
   "execution_count": 17,
   "metadata": {
    "collapsed": false
   },
   "outputs": [
    {
     "data": {
      "text/plain": [
       "<matplotlib.figure.Figure at 0x115a20748>"
      ]
     },
     "metadata": {},
     "output_type": "display_data"
    },
    {
     "data": {
      "image/png": "[encoded data removed]",
      "text/plain": [
       "<matplotlib.figure.Figure at 0x115a20710>"
      ]
     },
     "metadata": {},
     "output_type": "display_data"
    },
    {
     "data": {
      "text/plain": [
       "<matplotlib.figure.Figure at 0x1158a6c50>"
      ]
     },
     "metadata": {},
     "output_type": "display_data"
    }
   ],
   "source": [
    "plt.clf()\n",
    "fig = plt.figure()\n",
    "ax = fig.add_subplot(1,1,1)\n",
    "sns.set_style(\"whitegrid\")\n",
    "\n",
    "x = acc_results_nodes\n",
    "y2 = acc_results_acc_test\n",
    "y1 = acc_results_acc_train\n",
    "\n",
    "\n",
    "line, = ax.plot(x, y1 , lw=2, label=['Train Accuracy'])\n",
    "line, = ax.plot(x, y2 , lw=2, label=['Test Accuracy'])\n",
    "\n",
    "\n",
    "\n",
    "\n",
    "\n",
    "ax.set_xlabel('Number of Nodes in Hidden layer')\n",
    "ax.set_ylabel('Accuracy')\n",
    "\n",
    "      \n",
    "ax.set_ylim(0.75,1.00)\n",
    "\n",
    "\n",
    "\n",
    "plt.title('HW3 1.2 Accuracy versus number of hidden nodes (with 100 epochs)')\n",
    "plt.legend(bbox_to_anchor=(1.05, 1), loc=2)\n",
    "plt.show()\n",
    "plt.clf()\n",
    "plt.close(fig)"
   ]
  },
  {
   "cell_type": "code",
   "execution_count": 19,
   "metadata": {
    "collapsed": false
   },
   "outputs": [
    {
     "name": "stdout",
     "output_type": "stream",
     "text": [
      "Epoch    1: Train    0.13365, Test    0.14606\n",
      "Epoch   15: Train    0.48179, Test    0.43778\n",
      "Epoch   30: Train    0.79112, Test    0.71749\n",
      "Epoch   45: Train    0.83393, Test    0.77431\n",
      "Epoch   60: Train    0.86395, Test    0.79472\n",
      "Epoch   75: Train    0.87195, Test    0.81192\n",
      "Epoch   90: Train    0.87795, Test    0.81553\n"
     ]
    },
    {
     "data": {
      "text/plain": [
       "0.8779511804721889"
      ]
     },
     "execution_count": 19,
     "metadata": {},
     "output_type": "execute_result"
    }
   ],
   "source": [
    "nn = Network([196,30,10])\n",
    "nn.SGD_train(train, epochs=100, eta=0.01, lam=0.001, verbose=True, test=test)"
   ]
  },
  {
   "cell_type": "code",
   "execution_count": 20,
   "metadata": {
    "collapsed": false
   },
   "outputs": [],
   "source": [
    "epoch_results = nn.get_epoch_results()\n",
    "x_epochs = []\n",
    "y_test_acc = []\n",
    "y_train_acc = []\n",
    "for x, y1, y2 in epoch_results:\n",
    "    x_epochs.append(x)\n",
    "    y_train_acc.append(y1)\n",
    "    y_test_acc.append(y2)\n",
    "    \n",
    "y30_test = list(y_test_acc)\n",
    "y30_train = list(y_train_acc)"
   ]
  },
  {
   "cell_type": "code",
   "execution_count": 21,
   "metadata": {
    "collapsed": false
   },
   "outputs": [
    {
     "name": "stdout",
     "output_type": "stream",
     "text": [
      "Epoch    1: Train    0.12645, Test    0.14326\n",
      "Epoch   15: Train    0.49300, Test    0.44378\n",
      "Epoch   30: Train    0.74070, Test    0.68868\n",
      "Epoch   45: Train    0.81353, Test    0.74870\n",
      "Epoch   60: Train    0.84594, Test    0.78631\n",
      "Epoch   75: Train    0.86715, Test    0.79952\n",
      "Epoch   90: Train    0.87435, Test    0.80752\n"
     ]
    },
    {
     "data": {
      "text/plain": [
       "0.8743497398959584"
      ]
     },
     "execution_count": 21,
     "metadata": {},
     "output_type": "execute_result"
    }
   ],
   "source": [
    "nn = Network([196,20,10])\n",
    "nn.SGD_train(train, epochs=100, eta=0.01, lam=0.001, verbose=True, test=test)"
   ]
  },
  {
   "cell_type": "code",
   "execution_count": 22,
   "metadata": {
    "collapsed": true
   },
   "outputs": [],
   "source": [
    "epoch_results = nn.get_epoch_results()\n",
    "x_epochs = []\n",
    "y_test_acc = []\n",
    "y_train_acc = []\n",
    "for x, y1, y2 in epoch_results:\n",
    "    x_epochs.append(x)\n",
    "    y_train_acc.append(y1)\n",
    "    y_test_acc.append(y2)\n",
    "    \n",
    "y20_test = y_test_acc\n",
    "y20_train = y_train_acc"
   ]
  },
  {
   "cell_type": "code",
   "execution_count": 23,
   "metadata": {
    "collapsed": false
   },
   "outputs": [
    {
     "data": {
      "text/plain": [
       "<matplotlib.figure.Figure at 0x115aed4a8>"
      ]
     },
     "metadata": {},
     "output_type": "display_data"
    },
    {
     "data": {
      "image/png": "[encoded data removed]",
      "text/plain": [
       "<matplotlib.figure.Figure at 0x115aed470>"
      ]
     },
     "metadata": {},
     "output_type": "display_data"
    },
    {
     "data": {
      "text/plain": [
       "<matplotlib.figure.Figure at 0x115a289e8>"
      ]
     },
     "metadata": {},
     "output_type": "display_data"
    }
   ],
   "source": [
    "\n",
    "\n",
    "plt.clf()\n",
    "fig = plt.figure()\n",
    "ax = fig.add_subplot(1,1,1)\n",
    "sns.set_style(\"whitegrid\")\n",
    "\n",
    "x = x_epochs\n",
    "\n",
    "\n",
    "line1, = ax.plot(x, y30_train , lw=2, label=['Train Acc - 30 nodes'])\n",
    "\n",
    "\n",
    "line2, = ax.plot(x, y30_test , lw=2, label=['Test Acc - 30 nodes'])\n",
    "\n",
    "\n",
    "line4, = ax.plot(x, y20_train , lw=2, label=['Train Acc - 20 nodes'])\n",
    "\n",
    "\n",
    "line5, = ax.plot(x, y20_test , lw=2, label=['Test Acc - 20 nodes'])\n",
    "\n",
    "ax.set_ylim(0,1.00)\n",
    "\n",
    "ax.set_xlabel('Number of Epochs')\n",
    "ax.set_ylabel('Accuracy')\n",
    "\n",
    "\n",
    "plt.title('HW3 1.2 Accuracy versus epochs with 20 and 30 hidden nodes')\n",
    "plt.legend(bbox_to_anchor=(1.05, 1), loc=2)\n",
    "plt.show()\n",
    "plt.clf()\n",
    "plt.close(fig)\n",
    "    "
   ]
  },
  {
   "cell_type": "code",
   "execution_count": 25,
   "metadata": {
    "collapsed": true
   },
   "outputs": [],
   "source": [
    "results = pd.read_csv('rnn_tests.csv')"
   ]
  },
  {
   "cell_type": "code",
   "execution_count": 29,
   "metadata": {
    "collapsed": false,
    "scrolled": false
   },
   "outputs": [
    {
     "data": {
      "text/html": [
       "<div>\n",
       "<style>\n",
       "    .dataframe thead tr:only-child th {\n",
       "        text-align: right;\n",
       "    }\n",
       "\n",
       "    .dataframe thead th {\n",
       "        text-align: left;\n",
       "    }\n",
       "\n",
       "    .dataframe tbody tr th {\n",
       "        vertical-align: top;\n",
       "    }\n",
       "</style>\n",
       "<table border=\"1\" class=\"dataframe\">\n",
       "  <thead>\n",
       "    <tr style=\"text-align: right;\">\n",
       "      <th></th>\n",
       "      <th>num_words</th>\n",
       "      <th>example_len</th>\n",
       "      <th>batch_size</th>\n",
       "      <th>embedding_len</th>\n",
       "      <th>lstm_units_1</th>\n",
       "      <th>Best Accuracy</th>\n",
       "      <th>Epoch of 3 for best</th>\n",
       "    </tr>\n",
       "  </thead>\n",
       "  <tbody>\n",
       "    <tr>\n",
       "      <th>0</th>\n",
       "      <td>5000</td>\n",
       "      <td>128</td>\n",
       "      <td>32</td>\n",
       "      <td>64</td>\n",
       "      <td>128</td>\n",
       "      <td>0.8624</td>\n",
       "      <td>2</td>\n",
       "    </tr>\n",
       "    <tr>\n",
       "      <th>1</th>\n",
       "      <td>5000</td>\n",
       "      <td>256</td>\n",
       "      <td>32</td>\n",
       "      <td>64</td>\n",
       "      <td>128</td>\n",
       "      <td>0.8676</td>\n",
       "      <td>2</td>\n",
       "    </tr>\n",
       "    <tr>\n",
       "      <th>2</th>\n",
       "      <td>5000</td>\n",
       "      <td>512</td>\n",
       "      <td>32</td>\n",
       "      <td>64</td>\n",
       "      <td>128</td>\n",
       "      <td>0.8664</td>\n",
       "      <td>2</td>\n",
       "    </tr>\n",
       "    <tr>\n",
       "      <th>3</th>\n",
       "      <td>5000</td>\n",
       "      <td>768</td>\n",
       "      <td>32</td>\n",
       "      <td>64</td>\n",
       "      <td>128</td>\n",
       "      <td>0.8671</td>\n",
       "      <td>3</td>\n",
       "    </tr>\n",
       "    <tr>\n",
       "      <th>4</th>\n",
       "      <td>5000</td>\n",
       "      <td>1024</td>\n",
       "      <td>32</td>\n",
       "      <td>64</td>\n",
       "      <td>128</td>\n",
       "      <td>0.8682</td>\n",
       "      <td>2</td>\n",
       "    </tr>\n",
       "    <tr>\n",
       "      <th>5</th>\n",
       "      <td>1000</td>\n",
       "      <td>512</td>\n",
       "      <td>32</td>\n",
       "      <td>64</td>\n",
       "      <td>128</td>\n",
       "      <td>0.8490</td>\n",
       "      <td>3</td>\n",
       "    </tr>\n",
       "    <tr>\n",
       "      <th>6</th>\n",
       "      <td>2500</td>\n",
       "      <td>512</td>\n",
       "      <td>32</td>\n",
       "      <td>64</td>\n",
       "      <td>128</td>\n",
       "      <td>0.8622</td>\n",
       "      <td>2</td>\n",
       "    </tr>\n",
       "    <tr>\n",
       "      <th>7</th>\n",
       "      <td>5000</td>\n",
       "      <td>512</td>\n",
       "      <td>32</td>\n",
       "      <td>64</td>\n",
       "      <td>128</td>\n",
       "      <td>0.8707</td>\n",
       "      <td>3</td>\n",
       "    </tr>\n",
       "    <tr>\n",
       "      <th>8</th>\n",
       "      <td>7500</td>\n",
       "      <td>512</td>\n",
       "      <td>32</td>\n",
       "      <td>64</td>\n",
       "      <td>128</td>\n",
       "      <td>0.8613</td>\n",
       "      <td>3</td>\n",
       "    </tr>\n",
       "    <tr>\n",
       "      <th>9</th>\n",
       "      <td>10000</td>\n",
       "      <td>512</td>\n",
       "      <td>32</td>\n",
       "      <td>64</td>\n",
       "      <td>128</td>\n",
       "      <td>0.8519</td>\n",
       "      <td>3</td>\n",
       "    </tr>\n",
       "    <tr>\n",
       "      <th>10</th>\n",
       "      <td>5000</td>\n",
       "      <td>512</td>\n",
       "      <td>32</td>\n",
       "      <td>16</td>\n",
       "      <td>128</td>\n",
       "      <td>0.8571</td>\n",
       "      <td>3</td>\n",
       "    </tr>\n",
       "    <tr>\n",
       "      <th>11</th>\n",
       "      <td>5000</td>\n",
       "      <td>512</td>\n",
       "      <td>32</td>\n",
       "      <td>32</td>\n",
       "      <td>128</td>\n",
       "      <td>0.8608</td>\n",
       "      <td>3</td>\n",
       "    </tr>\n",
       "    <tr>\n",
       "      <th>12</th>\n",
       "      <td>5000</td>\n",
       "      <td>512</td>\n",
       "      <td>32</td>\n",
       "      <td>64</td>\n",
       "      <td>128</td>\n",
       "      <td>0.8659</td>\n",
       "      <td>3</td>\n",
       "    </tr>\n",
       "    <tr>\n",
       "      <th>13</th>\n",
       "      <td>5000</td>\n",
       "      <td>512</td>\n",
       "      <td>32</td>\n",
       "      <td>128</td>\n",
       "      <td>128</td>\n",
       "      <td>0.8715</td>\n",
       "      <td>3</td>\n",
       "    </tr>\n",
       "    <tr>\n",
       "      <th>14</th>\n",
       "      <td>5000</td>\n",
       "      <td>512</td>\n",
       "      <td>32</td>\n",
       "      <td>256</td>\n",
       "      <td>128</td>\n",
       "      <td>0.8744</td>\n",
       "      <td>2</td>\n",
       "    </tr>\n",
       "    <tr>\n",
       "      <th>15</th>\n",
       "      <td>5000</td>\n",
       "      <td>512</td>\n",
       "      <td>16</td>\n",
       "      <td>64</td>\n",
       "      <td>128</td>\n",
       "      <td>0.8535</td>\n",
       "      <td>3</td>\n",
       "    </tr>\n",
       "    <tr>\n",
       "      <th>16</th>\n",
       "      <td>5000</td>\n",
       "      <td>512</td>\n",
       "      <td>32</td>\n",
       "      <td>64</td>\n",
       "      <td>128</td>\n",
       "      <td>0.8525</td>\n",
       "      <td>3</td>\n",
       "    </tr>\n",
       "    <tr>\n",
       "      <th>17</th>\n",
       "      <td>5000</td>\n",
       "      <td>512</td>\n",
       "      <td>64</td>\n",
       "      <td>64</td>\n",
       "      <td>128</td>\n",
       "      <td>0.8532</td>\n",
       "      <td>1</td>\n",
       "    </tr>\n",
       "    <tr>\n",
       "      <th>18</th>\n",
       "      <td>5000</td>\n",
       "      <td>512</td>\n",
       "      <td>128</td>\n",
       "      <td>64</td>\n",
       "      <td>128</td>\n",
       "      <td>0.8712</td>\n",
       "      <td>2</td>\n",
       "    </tr>\n",
       "    <tr>\n",
       "      <th>19</th>\n",
       "      <td>5000</td>\n",
       "      <td>512</td>\n",
       "      <td>256</td>\n",
       "      <td>64</td>\n",
       "      <td>128</td>\n",
       "      <td>0.8792</td>\n",
       "      <td>2</td>\n",
       "    </tr>\n",
       "    <tr>\n",
       "      <th>20</th>\n",
       "      <td>5000</td>\n",
       "      <td>512</td>\n",
       "      <td>32</td>\n",
       "      <td>64</td>\n",
       "      <td>64</td>\n",
       "      <td>0.8687</td>\n",
       "      <td>2</td>\n",
       "    </tr>\n",
       "    <tr>\n",
       "      <th>21</th>\n",
       "      <td>5000</td>\n",
       "      <td>512</td>\n",
       "      <td>32</td>\n",
       "      <td>64</td>\n",
       "      <td>96</td>\n",
       "      <td>0.8616</td>\n",
       "      <td>3</td>\n",
       "    </tr>\n",
       "    <tr>\n",
       "      <th>22</th>\n",
       "      <td>5000</td>\n",
       "      <td>512</td>\n",
       "      <td>32</td>\n",
       "      <td>64</td>\n",
       "      <td>128</td>\n",
       "      <td>0.8739</td>\n",
       "      <td>2</td>\n",
       "    </tr>\n",
       "    <tr>\n",
       "      <th>23</th>\n",
       "      <td>5000</td>\n",
       "      <td>512</td>\n",
       "      <td>32</td>\n",
       "      <td>64</td>\n",
       "      <td>192</td>\n",
       "      <td>0.8058</td>\n",
       "      <td>1</td>\n",
       "    </tr>\n",
       "    <tr>\n",
       "      <th>24</th>\n",
       "      <td>5000</td>\n",
       "      <td>512</td>\n",
       "      <td>32</td>\n",
       "      <td>64</td>\n",
       "      <td>256</td>\n",
       "      <td>0.8758</td>\n",
       "      <td>3</td>\n",
       "    </tr>\n",
       "  </tbody>\n",
       "</table>\n",
       "</div>"
      ],
      "text/plain": [
       "    num_words  example_len  batch_size  embedding_len  lstm_units_1  \\\n",
       "0        5000          128          32             64           128   \n",
       "1        5000          256          32             64           128   \n",
       "2        5000          512          32             64           128   \n",
       "3        5000          768          32             64           128   \n",
       "4        5000         1024          32             64           128   \n",
       "5        1000          512          32             64           128   \n",
       "6        2500          512          32             64           128   \n",
       "7        5000          512          32             64           128   \n",
       "8        7500          512          32             64           128   \n",
       "9       10000          512          32             64           128   \n",
       "10       5000          512          32             16           128   \n",
       "11       5000          512          32             32           128   \n",
       "12       5000          512          32             64           128   \n",
       "13       5000          512          32            128           128   \n",
       "14       5000          512          32            256           128   \n",
       "15       5000          512          16             64           128   \n",
       "16       5000          512          32             64           128   \n",
       "17       5000          512          64             64           128   \n",
       "18       5000          512         128             64           128   \n",
       "19       5000          512         256             64           128   \n",
       "20       5000          512          32             64            64   \n",
       "21       5000          512          32             64            96   \n",
       "22       5000          512          32             64           128   \n",
       "23       5000          512          32             64           192   \n",
       "24       5000          512          32             64           256   \n",
       "\n",
       "    Best Accuracy  Epoch of 3 for best  \n",
       "0          0.8624                    2  \n",
       "1          0.8676                    2  \n",
       "2          0.8664                    2  \n",
       "3          0.8671                    3  \n",
       "4          0.8682                    2  \n",
       "5          0.8490                    3  \n",
       "6          0.8622                    2  \n",
       "7          0.8707                    3  \n",
       "8          0.8613                    3  \n",
       "9          0.8519                    3  \n",
       "10         0.8571                    3  \n",
       "11         0.8608                    3  \n",
       "12         0.8659                    3  \n",
       "13         0.8715                    3  \n",
       "14         0.8744                    2  \n",
       "15         0.8535                    3  \n",
       "16         0.8525                    3  \n",
       "17         0.8532                    1  \n",
       "18         0.8712                    2  \n",
       "19         0.8792                    2  \n",
       "20         0.8687                    2  \n",
       "21         0.8616                    3  \n",
       "22         0.8739                    2  \n",
       "23         0.8058                    1  \n",
       "24         0.8758                    3  "
      ]
     },
     "execution_count": 29,
     "metadata": {},
     "output_type": "execute_result"
    }
   ],
   "source": [
    "print results"
   ]
  },
  {
   "cell_type": "code",
   "execution_count": null,
   "metadata": {
    "collapsed": true
   },
   "outputs": [],
   "source": []
  }
 ],
 "metadata": {
  "anaconda-cloud": {},
  "kernelspec": {
   "display_name": "Python [conda env:hwenv]",
   "language": "python",
   "name": "conda-env-hwenv-py"
  },
  "language_info": {
   "codemirror_mode": {
    "name": "ipython",
    "version": 3
   },
   "file_extension": ".py",
   "mimetype": "text/x-python",
   "name": "python",
   "nbconvert_exporter": "python",
   "pygments_lexer": "ipython3",
   "version": "3.6.2"
  }
 },
 "nbformat": 4,
 "nbformat_minor": 1
}
