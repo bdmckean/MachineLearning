{
 "cells": [
  {
   "cell_type": "code",
   "execution_count": 1,
   "metadata": {
    "collapsed": false
   },
   "outputs": [
    {
     "name": "stderr",
     "output_type": "stream",
     "text": [
      "Using TensorFlow backend.\n"
     ]
    }
   ],
   "source": [
    "\n",
    "import argparse\n",
    "import pickle\n",
    "import gzip\n",
    "from collections import Counter, defaultdict\n",
    "import keras\n",
    "from keras.models import Sequential\n",
    "from keras.layers import Conv2D\n",
    "from keras.layers import Dense\n",
    "from keras.layers import MaxPool2D\n",
    "from keras.layers import Dropout\n",
    "from keras.layers import Flatten\n",
    "from keras.layers.core import Reshape\n",
    "import numpy as np\n",
    "\n",
    "from sklearn.preprocessing import LabelEncoder\n",
    "from sklearn.preprocessing import OneHotEncoder\n",
    "\n",
    "\n",
    "\n",
    "import matplotlib.pyplot as plt\n",
    "\n",
    "from collections import defaultdict\n",
    "\n",
    "%matplotlib inline\n",
    "import json\n",
    "plt.style.use('ggplot')"
   ]
  },
  {
   "cell_type": "code",
   "execution_count": 2,
   "metadata": {
    "collapsed": true
   },
   "outputs": [],
   "source": [
    "class Numbers:\n",
    "    \"\"\"\n",
    "    Class to store MNIST data\n",
    "    \"\"\"\n",
    "\n",
    "    def __init__(self, location):\n",
    "        # Load the dataset\n",
    "        with gzip.open(location, 'rb') as f:\n",
    "            train_set, valid_set, test_set = pickle.load(f)\n",
    "        self.train_x, self.train_y = train_set\n",
    "        self.test_x, self.test_y = valid_set\n"
   ]
  },
  {
   "cell_type": "code",
   "execution_count": 3,
   "metadata": {
    "collapsed": false
   },
   "outputs": [],
   "source": [
    "\n",
    "class CNN:\n",
    "    '''\n",
    "    CNN classifier\n",
    "    '''\n",
    "    def __init__(self, train_x, train_y, test_x, test_y, history, epochs = 15, batch_size=128, ):\n",
    "        '''\n",
    "        initialize CNN classifier\n",
    "        '''\n",
    "        self.batch_size = batch_size\n",
    "        self.epochs = epochs\n",
    "\n",
    "        print (len(train_x))\n",
    "        print (len([elem for elem in train_x]))\n",
    "        # TODO: reshape train_x and test_x\n",
    "        # reshape our data from (n, length) to (n, width, height, 1) which width*height = length\n",
    "        #self.train_x = np.array(np.array([train_x[i:i + 28] for i in range(0, len(train_x), 28)]))\n",
    "        #self.train_x = np.array([[elem[i:i + 28] for i in range(0, len(elem), 28)] for elem in train_x])\n",
    "        #self.test_x = np.array([[elem[i:i + 28] for i in range(0, len(elem), 28)] for elem in test_x])\n",
    "        self.train_y = np.array(train_y)\n",
    "        self.test_y = np.array(test_y)\n",
    "        \n",
    "        # input image dimensions\n",
    "        img_x, img_y = 28, 28\n",
    "        input_shape = (img_x, img_y, 1)\n",
    "        \n",
    "        # TODO: reshape train_x and test_x\n",
    "        self.train_x = train_x.reshape(train_x.shape[0], img_x, img_y, 1)\n",
    "        self.test_x = test_x.reshape(test_x.shape[0], img_x, img_y, 1)\n",
    "        \n",
    "\n",
    "        print (self.train_x.shape, self.test_x.shape, self.train_y.shape, self.test_y.shape)\n",
    "        #print (self.train_x[0], self.test_x[0], self.train_y[0], self.test_y[0])\n",
    "\n",
    "\n",
    "        # normalize data to range [0, 1]\n",
    "        #self.train_x /= 255\n",
    "        #self.test_x /= 255\n",
    "        #print (self.train_x[0], self.test_x[0], self.train_y[0], self.test_y[0])\n",
    "\n",
    "\n",
    "        # TODO: one hot encoding for train_y and test_y\n",
    "        num_classes = len(set(train_y))\n",
    "        one_hot_train_y = [ [0 if elem != idx else 1 for idx in range(num_classes) ] for elem in train_y]\n",
    "        one_hot_test_y = [ [0 if elem != idx else 1 for idx in range(num_classes) ] for elem in test_y]\n",
    "        self.train_y = one_hot_train_y\n",
    "        self.test_y =  one_hot_test_y\n",
    "        \n",
    "    \n",
    "    \n",
    "\n",
    "\n",
    "        # TODO: build you CNN model\n",
    "        model = Sequential()\n",
    "        model.add(Conv2D(32, kernel_size=(5, 5), strides=(1, 1),\n",
    "                         activation='relu',\n",
    "                         input_shape=input_shape))\n",
    "        model.add(MaxPool2D(pool_size=(2, 2), strides=(2, 2)))\n",
    "        model.add(Dropout(0.5))\n",
    "        model.add(Conv2D(64, (5, 5), activation='relu'))\n",
    "        model.add(MaxPool2D(pool_size=(2, 2)))\n",
    "        model.add(Dropout(0.5))\n",
    "        model.add(Flatten())\n",
    "        model.add(Dense(1000, activation='relu'))\n",
    "        model.add(Dropout(0.5))\n",
    "        model.add(Dense(num_classes, activation='softmax'))\n",
    "        model.compile(loss=keras.losses.categorical_crossentropy,\n",
    "              optimizer=keras.optimizers.SGD(lr=0.01),\n",
    "              metrics=['accuracy'])\n",
    "        \n",
    "        self.model = model\n",
    "        \n",
    "    def train(self):\n",
    "        '''\n",
    "        train CNN classifier with training data\n",
    "        :param x: training data input\n",
    "        :param y: training label input\n",
    "        :return:\n",
    "        '''\n",
    "        # TODO: fit in training data\n",
    "        self.model.fit(self.train_x, self.train_y,\n",
    "          batch_size=self.batch_size,\n",
    "          epochs=self.epochs,\n",
    "          verbose=1,\n",
    "          validation_data=(self.test_x, self.test_y),\n",
    "          callbacks=[history])\n",
    "\n",
    "    def evaluate(self):\n",
    "        '''\n",
    "        test CNN classifier and get accuracy\n",
    "        :return: accuracy\n",
    "        '''\n",
    "        acc = self.model.evaluate(self.test_x, self.test_y)\n",
    "        return acc\n"
   ]
  },
  {
   "cell_type": "code",
   "execution_count": 4,
   "metadata": {
    "collapsed": true
   },
   "outputs": [],
   "source": [
    "class AccuracyHistory(keras.callbacks.Callback):\n",
    "    def on_train_begin(self, logs={}):\n",
    "        self.acc = []\n",
    "\n",
    "    def on_epoch_end(self, batch, logs={}):\n",
    "        self.acc.append(logs.get('acc'))"
   ]
  },
  {
   "cell_type": "code",
   "execution_count": 5,
   "metadata": {
    "collapsed": false,
    "scrolled": false
   },
   "outputs": [
    {
     "name": "stdout",
     "output_type": "stream",
     "text": [
      "(50000, 784) (10000, 784) (50000,) (10000,)\n",
      "50000\n",
      "50000\n",
      "(50000, 28, 28, 1) (10000, 28, 28, 1) (50000,) (10000,)\n",
      "Train on 50000 samples, validate on 10000 samples\n",
      "Epoch 1/50\n",
      "50000/50000 [==============================] - 157s - loss: 1.8356 - acc: 0.3592 - val_loss: 0.7027 - val_acc: 0.8382\n",
      "Epoch 2/50\n",
      "50000/50000 [==============================] - 165s - loss: 0.7702 - acc: 0.7477 - val_loss: 0.3593 - val_acc: 0.9046\n",
      "Epoch 3/50\n",
      "50000/50000 [==============================] - 174s - loss: 0.5291 - acc: 0.8311 - val_loss: 0.2568 - val_acc: 0.9280\n",
      "Epoch 4/50\n",
      "50000/50000 [==============================] - 172s - loss: 0.4216 - acc: 0.8669 - val_loss: 0.2065 - val_acc: 0.9442\n",
      "Epoch 5/50\n",
      "50000/50000 [==============================] - 171s - loss: 0.3545 - acc: 0.8894 - val_loss: 0.1756 - val_acc: 0.9493\n",
      "Epoch 6/50\n",
      "50000/50000 [==============================] - 171s - loss: 0.3124 - acc: 0.9028 - val_loss: 0.1571 - val_acc: 0.9558\n",
      "Epoch 7/50\n",
      "50000/50000 [==============================] - 177s - loss: 0.2867 - acc: 0.9107 - val_loss: 0.1420 - val_acc: 0.9591\n",
      "Epoch 8/50\n",
      "50000/50000 [==============================] - 175s - loss: 0.2599 - acc: 0.9193 - val_loss: 0.1302 - val_acc: 0.9628\n",
      "Epoch 9/50\n",
      "50000/50000 [==============================] - 153s - loss: 0.2449 - acc: 0.9233 - val_loss: 0.1218 - val_acc: 0.9659\n",
      "Epoch 10/50\n",
      "50000/50000 [==============================] - 140s - loss: 0.2305 - acc: 0.9281 - val_loss: 0.1133 - val_acc: 0.9686\n",
      "Epoch 11/50\n",
      "50000/50000 [==============================] - 140s - loss: 0.2169 - acc: 0.9326 - val_loss: 0.1070 - val_acc: 0.9696\n",
      "Epoch 12/50\n",
      "50000/50000 [==============================] - 141s - loss: 0.2092 - acc: 0.9347 - val_loss: 0.1037 - val_acc: 0.9704\n",
      "Epoch 13/50\n",
      "50000/50000 [==============================] - 140s - loss: 0.1994 - acc: 0.9377 - val_loss: 0.0969 - val_acc: 0.9719\n",
      "Epoch 14/50\n",
      "50000/50000 [==============================] - 141s - loss: 0.1871 - acc: 0.9416 - val_loss: 0.0919 - val_acc: 0.9742\n",
      "Epoch 15/50\n",
      "50000/50000 [==============================] - 142s - loss: 0.1844 - acc: 0.9420 - val_loss: 0.0902 - val_acc: 0.9742\n",
      "Epoch 16/50\n",
      "50000/50000 [==============================] - 141s - loss: 0.1749 - acc: 0.9457 - val_loss: 0.0858 - val_acc: 0.9758\n",
      "Epoch 17/50\n",
      "50000/50000 [==============================] - 140s - loss: 0.1689 - acc: 0.9477 - val_loss: 0.0840 - val_acc: 0.9768\n",
      "Epoch 18/50\n",
      "50000/50000 [==============================] - 142s - loss: 0.1633 - acc: 0.9489 - val_loss: 0.0801 - val_acc: 0.9772\n",
      "Epoch 19/50\n",
      "50000/50000 [==============================] - 141s - loss: 0.1571 - acc: 0.9515 - val_loss: 0.0781 - val_acc: 0.9779\n",
      "Epoch 20/50\n",
      "50000/50000 [==============================] - 138s - loss: 0.1538 - acc: 0.9519 - val_loss: 0.0757 - val_acc: 0.9793\n",
      "Epoch 21/50\n",
      "50000/50000 [==============================] - 141s - loss: 0.1489 - acc: 0.9530 - val_loss: 0.0738 - val_acc: 0.9797\n",
      "Epoch 22/50\n",
      "50000/50000 [==============================] - 141s - loss: 0.1448 - acc: 0.9547 - val_loss: 0.0712 - val_acc: 0.9806\n",
      "Epoch 23/50\n",
      "50000/50000 [==============================] - 140s - loss: 0.1418 - acc: 0.9562 - val_loss: 0.0686 - val_acc: 0.9814\n",
      "Epoch 24/50\n",
      "50000/50000 [==============================] - 141s - loss: 0.1390 - acc: 0.9566 - val_loss: 0.0680 - val_acc: 0.9812\n",
      "Epoch 25/50\n",
      "50000/50000 [==============================] - 139s - loss: 0.1337 - acc: 0.9583 - val_loss: 0.0670 - val_acc: 0.9818\n",
      "Epoch 26/50\n",
      "50000/50000 [==============================] - 140s - loss: 0.1321 - acc: 0.9585 - val_loss: 0.0649 - val_acc: 0.9831\n",
      "Epoch 27/50\n",
      "50000/50000 [==============================] - 141s - loss: 0.1290 - acc: 0.9600 - val_loss: 0.0642 - val_acc: 0.9827\n",
      "Epoch 28/50\n",
      "50000/50000 [==============================] - 143s - loss: 0.1265 - acc: 0.9608 - val_loss: 0.0632 - val_acc: 0.9832\n",
      "Epoch 29/50\n",
      "50000/50000 [==============================] - 142s - loss: 0.1238 - acc: 0.9609 - val_loss: 0.0612 - val_acc: 0.9833\n",
      "Epoch 30/50\n",
      "50000/50000 [==============================] - 140s - loss: 0.1227 - acc: 0.9605 - val_loss: 0.0600 - val_acc: 0.9837\n",
      "Epoch 31/50\n",
      "50000/50000 [==============================] - 141s - loss: 0.1206 - acc: 0.9620 - val_loss: 0.0588 - val_acc: 0.9844\n",
      "Epoch 32/50\n",
      "50000/50000 [==============================] - 142s - loss: 0.1186 - acc: 0.9633 - val_loss: 0.0571 - val_acc: 0.9845\n",
      "Epoch 33/50\n",
      "50000/50000 [==============================] - 142s - loss: 0.1133 - acc: 0.9642 - val_loss: 0.0561 - val_acc: 0.9851\n",
      "Epoch 34/50\n",
      "50000/50000 [==============================] - 143s - loss: 0.1119 - acc: 0.9651 - val_loss: 0.0562 - val_acc: 0.9845\n",
      "Epoch 35/50\n",
      "50000/50000 [==============================] - 140s - loss: 0.1130 - acc: 0.9647 - val_loss: 0.0547 - val_acc: 0.9852\n",
      "Epoch 36/50\n",
      "50000/50000 [==============================] - 141s - loss: 0.1091 - acc: 0.9665 - val_loss: 0.0540 - val_acc: 0.9855\n",
      "Epoch 37/50\n",
      "50000/50000 [==============================] - 142s - loss: 0.1079 - acc: 0.9667 - val_loss: 0.0536 - val_acc: 0.9850\n",
      "Epoch 38/50\n",
      "50000/50000 [==============================] - 140s - loss: 0.1034 - acc: 0.9675 - val_loss: 0.0523 - val_acc: 0.9858\n",
      "Epoch 39/50\n",
      "50000/50000 [==============================] - 140s - loss: 0.1027 - acc: 0.9678 - val_loss: 0.0515 - val_acc: 0.9856\n",
      "Epoch 40/50\n",
      "50000/50000 [==============================] - 140s - loss: 0.1002 - acc: 0.9685 - val_loss: 0.0510 - val_acc: 0.9857\n",
      "Epoch 41/50\n",
      "50000/50000 [==============================] - 142s - loss: 0.1000 - acc: 0.9685 - val_loss: 0.0509 - val_acc: 0.9862\n",
      "Epoch 42/50\n",
      "50000/50000 [==============================] - 141s - loss: 0.1023 - acc: 0.9679 - val_loss: 0.0502 - val_acc: 0.9862\n",
      "Epoch 43/50\n",
      "50000/50000 [==============================] - 140s - loss: 0.0987 - acc: 0.9694 - val_loss: 0.0494 - val_acc: 0.9864\n",
      "Epoch 44/50\n",
      "50000/50000 [==============================] - 139s - loss: 0.0992 - acc: 0.9696 - val_loss: 0.0496 - val_acc: 0.9866\n",
      "Epoch 45/50\n",
      "50000/50000 [==============================] - 141s - loss: 0.0964 - acc: 0.9692 - val_loss: 0.0479 - val_acc: 0.9863\n",
      "Epoch 46/50\n",
      "50000/50000 [==============================] - 141s - loss: 0.0943 - acc: 0.9709 - val_loss: 0.0472 - val_acc: 0.9865\n",
      "Epoch 47/50\n",
      "50000/50000 [==============================] - 141s - loss: 0.0945 - acc: 0.9700 - val_loss: 0.0466 - val_acc: 0.9866\n",
      "Epoch 48/50\n",
      "50000/50000 [==============================] - 141s - loss: 0.0909 - acc: 0.9710 - val_loss: 0.0466 - val_acc: 0.9871\n",
      "Epoch 49/50\n",
      "50000/50000 [==============================] - 141s - loss: 0.0910 - acc: 0.9719 - val_loss: 0.0466 - val_acc: 0.9869\n",
      "Epoch 50/50\n",
      "50000/50000 [==============================] - 143s - loss: 0.0892 - acc: 0.9716 - val_loss: 0.0449 - val_acc: 0.9874\n",
      "10000/10000 [==============================] - 8s     \n",
      "[0.044877817283477638, 0.98740000000000006]\n"
     ]
    }
   ],
   "source": [
    "#parser = argparse.ArgumentParser(description='CNN classifier options')\n",
    "#parser.add_argument('--limit', type=int, default=-1,help='Restrict training to this many examples')\n",
    "#args = parser.parse_args()\n",
    "\n",
    "data = Numbers(\"../data/mnist.pkl.gz\")\n",
    "\n",
    "print ( data.train_x.shape, data.test_x.shape, data.train_y.shape, data.test_y.shape )\n",
    "\n",
    "\n",
    "limit = 50000\n",
    "\n",
    "\n",
    "history = AccuracyHistory()\n",
    "epochs = 50\n",
    "cnn = CNN(data.train_x[:limit], data.train_y[:limit], data.test_x, data.test_y, history, epochs = epochs, batch_size=128)\n",
    "cnn.train()\n",
    "acc = cnn.evaluate()\n",
    "print(acc)"
   ]
  },
  {
   "cell_type": "code",
   "execution_count": 6,
   "metadata": {
    "collapsed": false
   },
   "outputs": [
    {
     "data": {
      "image/png": "[encoded data removed]",
      "text/plain": [
       "<matplotlib.figure.Figure at 0x11d027e10>"
      ]
     },
     "metadata": {},
     "output_type": "display_data"
    }
   ],
   "source": [
    "plt.plot(range(1,epochs+1), history.acc)\n",
    "plt.xlabel('Epochs')\n",
    "plt.ylabel('Accuracy')\n",
    "plt.title('CNN with 2 convolutional layers, one of 32 nodes and one of 64 nodes')\n",
    "\n",
    "plt.show()"
   ]
  },
  {
   "cell_type": "code",
   "execution_count": 7,
   "metadata": {
    "collapsed": false
   },
   "outputs": [
    {
     "name": "stdout",
     "output_type": "stream",
     "text": [
      "_________________________________________________________________\n",
      "Layer (type)                 Output Shape              Param #   \n",
      "=================================================================\n",
      "conv2d_1 (Conv2D)            (None, 24, 24, 32)        832       \n",
      "_________________________________________________________________\n",
      "max_pooling2d_1 (MaxPooling2 (None, 12, 12, 32)        0         \n",
      "_________________________________________________________________\n",
      "dropout_1 (Dropout)          (None, 12, 12, 32)        0         \n",
      "_________________________________________________________________\n",
      "conv2d_2 (Conv2D)            (None, 8, 8, 64)          51264     \n",
      "_________________________________________________________________\n",
      "max_pooling2d_2 (MaxPooling2 (None, 4, 4, 64)          0         \n",
      "_________________________________________________________________\n",
      "dropout_2 (Dropout)          (None, 4, 4, 64)          0         \n",
      "_________________________________________________________________\n",
      "flatten_1 (Flatten)          (None, 1024)              0         \n",
      "_________________________________________________________________\n",
      "dense_1 (Dense)              (None, 1000)              1025000   \n",
      "_________________________________________________________________\n",
      "dropout_3 (Dropout)          (None, 1000)              0         \n",
      "_________________________________________________________________\n",
      "dense_2 (Dense)              (None, 10)                10010     \n",
      "=================================================================\n",
      "Total params: 1,087,106\n",
      "Trainable params: 1,087,106\n",
      "Non-trainable params: 0\n",
      "_________________________________________________________________\n",
      "None\n"
     ]
    }
   ],
   "source": [
    "print (cnn.model.summary())"
   ]
  },
  {
   "cell_type": "code",
   "execution_count": null,
   "metadata": {
    "collapsed": true
   },
   "outputs": [],
   "source": []
  },
  {
   "cell_type": "code",
   "execution_count": null,
   "metadata": {
    "collapsed": true
   },
   "outputs": [],
   "source": []
  }
 ],
 "metadata": {
  "anaconda-cloud": {},
  "kernelspec": {
   "display_name": "Python [conda env:hwenv]",
   "language": "python",
   "name": "conda-env-hwenv-py"
  },
  "language_info": {
   "codemirror_mode": {
    "name": "ipython",
    "version": 3
   },
   "file_extension": ".py",
   "mimetype": "text/x-python",
   "name": "python",
   "nbconvert_exporter": "python",
   "pygments_lexer": "ipython3",
   "version": "3.6.2"
  }
 },
 "nbformat": 4,
 "nbformat_minor": 1
}
